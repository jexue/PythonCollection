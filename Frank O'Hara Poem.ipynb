{
 "cells": [
  {
   "cell_type": "code",
   "execution_count": 14,
   "metadata": {},
   "outputs": [],
   "source": [
    "import time\n",
    "import tkinter\n",
    "root = tkinter.Tk()\n",
    "\n",
    "root.title(\"Poetry\")\n",
    "\n",
    "label = tkinter.Label(root,text = \"Poetry is sexy!\")\n",
    "label.pack()\n",
    "\n",
    "line1 = \"just as at home I never think of the Nude Descending a Staircase or\"\n",
    "line2 = \"the fact that you move so beautifully more or less takes care of Futurism\"\n",
    "line3 = \"at a rehearsal a single drawing of Leonardo or Michelangelo that used to wow me\"\n",
    "line4 = \"what good does all the research of the Impressionists do them\"\n",
    "line5 = \"when they never got the right person to stand near the tree when the sun sank\"\n",
    "\n",
    "def runpoem():\n",
    "    X = 1\n",
    "    def Poetry():\n",
    "        if X == 1:\n",
    "            print(line1)\n",
    "        else:\n",
    "            if X == 2:\n",
    "                print(line2)\n",
    "            else:\n",
    "                if X == 3:\n",
    "                    print(line3)\n",
    "                else:\n",
    "                    if X == 4:\n",
    "                        print(line4)\n",
    "                    else:\n",
    "                        print(line5)\n",
    "        time.sleep(1)\n",
    "    while X < 6:\n",
    "        Poetry()\n",
    "        X = X + 1\n",
    "\n",
    "browseButton = tkinter.Button(root,text = \"Frank O'Hara\", command = runpoem)\n",
    "browseButton.pack(side = \"top\")\n",
    "\n",
    "quit = tkinter.Button(root,text = \"I don't like poetry\", command = root.destroy)\n",
    "quit.pack(side = \"bottom\")\n",
    "\n",
    "root.mainloop() "
   ]
  },
  {
   "cell_type": "code",
   "execution_count": null,
   "metadata": {
    "collapsed": true
   },
   "outputs": [],
   "source": []
  }
 ],
 "metadata": {
  "kernelspec": {
   "display_name": "Python 3",
   "language": "python",
   "name": "python3"
  },
  "language_info": {
   "codemirror_mode": {
    "name": "ipython",
    "version": 3
   },
   "file_extension": ".py",
   "mimetype": "text/x-python",
   "name": "python",
   "nbconvert_exporter": "python",
   "pygments_lexer": "ipython3",
   "version": "3.6.2"
  }
 },
 "nbformat": 4,
 "nbformat_minor": 2
}
